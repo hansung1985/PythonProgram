{
 "cells": [
  {
   "cell_type": "markdown",
   "id": "bf983d43-2608-4b5d-a57e-b2a212f108e4",
   "metadata": {},
   "source": [
    "# Markdown 언어 실습\n",
    "## Header\n",
    "1. Header 작성(Markdown 언어)"
   ]
  },
  {
   "cell_type": "markdown",
   "id": "3946b141",
   "metadata": {},
   "source": [
    "<a id=\"header\"></a>"
   ]
  },
  {
   "cell_type": "markdown",
   "id": "2203f087-05fa-42bb-bc87-2a7826bde73e",
   "metadata": {},
   "source": [
    "# Header\n",
    "## Header\n",
    "### Header\n",
    "#### Header\n",
    "##### Header\n",
    "###### Header"
   ]
  },
  {
   "cell_type": "markdown",
   "id": "b80e7700-f875-4558-8e88-aa345c7350b4",
   "metadata": {},
   "source": [
    "# Header\n",
    "## Header\n",
    "### Header\n",
    "#### Header\n",
    "##### Header\n",
    "###### Header"
   ]
  },
  {
   "cell_type": "markdown",
   "id": "31cc597c-b54a-47e8-8c88-9c2d0c367a86",
   "metadata": {},
   "source": [
    "2. Header 작성 (HTML 언어)"
   ]
  },
  {
   "cell_type": "markdown",
   "id": "b410a7ea-34cb-4e82-9e6f-16b79cd06c53",
   "metadata": {},
   "source": [
    "<h1>Header</h1>\n",
    "<h2>Header</h2>\n",
    "<h3>Header</h3>\n",
    "<h4>Header</h4>\n",
    "<h5>Header</h5>\n",
    "<h6>Header</h6>"
   ]
  },
  {
   "cell_type": "markdown",
   "id": "72292b38-f054-4bcd-9f4f-c1b09b4d52db",
   "metadata": {},
   "source": [
    "<h1>Header</h1>\n",
    "<h2>Header</h2>\n",
    "<h3>Header</h3>\n",
    "<h4>Header</h4>\n",
    "<h5>Header</h5>\n",
    "<h6>Header</h6>"
   ]
  },
  {
   "cell_type": "markdown",
   "id": "45d8fc0b",
   "metadata": {},
   "source": [
    "---"
   ]
  },
  {
   "cell_type": "markdown",
   "id": "f1ea49f2",
   "metadata": {},
   "source": [
    "<a id=\"bold_text\"></a>"
   ]
  },
  {
   "cell_type": "markdown",
   "id": "b9b0262a-9df5-4feb-bcb4-a337d46ec2a1",
   "metadata": {},
   "source": [
    "## Bold Text\n",
    "1. Bold Text 작성 (Markdown 언어)"
   ]
  },
  {
   "cell_type": "markdown",
   "id": "2c4a0fca-9956-4d99-a218-077452d12eac",
   "metadata": {},
   "source": [
    "이 글은 **굵게**  작성된 내용입니다.   \n",
    "__이 글은 굵게 작성된 내용입니다.__"
   ]
  },
  {
   "cell_type": "markdown",
   "id": "f452ea9e-b162-4c0a-9185-46d6f1dd45f3",
   "metadata": {},
   "source": [
    "이 글은 **굵게** 작성된 내용입니다.  \n",
    "__이 글은 굵게 작성된 내용입니다.__"
   ]
  },
  {
   "cell_type": "markdown",
   "id": "c2f39d06-4e76-4872-961c-c605fc05dcf4",
   "metadata": {},
   "source": [
    "2. Bold Text 작성 (HTML 언어)"
   ]
  },
  {
   "cell_type": "markdown",
   "id": "29b6254f-f317-4a24-af54-a26e1bd91093",
   "metadata": {},
   "source": [
    "이 글은 <b>굵게</b> 작성된 내용입니다.  \n",
    "<strong> 이 글은 굵게 작성된 내용입니다.</strong>"
   ]
  },
  {
   "cell_type": "markdown",
   "id": "e9ed599c-5a74-405e-a411-5c8c6560c820",
   "metadata": {},
   "source": [
    "이 글은 <b>굵게</b> 작성된 내용입니다.  \n",
    "<strong> 이 글은 굵게 작성된 내용입니다.</strong>"
   ]
  },
  {
   "cell_type": "markdown",
   "id": "40a6f3e3",
   "metadata": {},
   "source": [
    "---"
   ]
  },
  {
   "cell_type": "markdown",
   "id": "368e9817-7121-4f91-b539-ac8df273be98",
   "metadata": {},
   "source": [
    "# Italic Text\n",
    "1. Italic Text 작성(Markdown 언어)"
   ]
  },
  {
   "cell_type": "markdown",
   "id": "f5db2175-f81b-4e0b-8ba2-5216845d52f8",
   "metadata": {},
   "source": [
    "이 글은 *기울기*가 적용된 내용입니다.  \n",
    "_이 글은 기울기가 적용된 내용입니다._"
   ]
  },
  {
   "cell_type": "markdown",
   "id": "822a45a7-d84f-4121-9a3f-cc177e8e82e2",
   "metadata": {},
   "source": [
    "이 글은 *기울기*가 적용된 내용입니다.  \n",
    "_이 글은 기울기가 적용된 내용입니다._"
   ]
  },
  {
   "cell_type": "markdown",
   "id": "b9c05af5-1eed-4a64-a049-1b03c9a1e2b3",
   "metadata": {},
   "source": [
    "2. Italic Text 작성(HTML 언어)"
   ]
  },
  {
   "cell_type": "markdown",
   "id": "1a853213-2ee5-4438-b6c3-4adfc996a10b",
   "metadata": {},
   "source": [
    "<em>이 글은 기울기가 적용된 내용입니다.</em><br>\n",
    "<i>이 글은 기울기가 적용된 내용입니다.</i>"
   ]
  },
  {
   "cell_type": "markdown",
   "id": "a54e4661-a013-426c-b46b-4e8e162bd3b8",
   "metadata": {},
   "source": [
    "<em>이 글은 기울기가 적용된 내용입니다.</em><br>\n",
    "<i>이 글은 기울기가 적용된 내용입니다.</i>"
   ]
  },
  {
   "cell_type": "markdown",
   "id": "6a235d90",
   "metadata": {},
   "source": [
    "---"
   ]
  },
  {
   "cell_type": "markdown",
   "id": "f6089372-8638-47a3-b8ca-b3b37b17b2c0",
   "metadata": {},
   "source": [
    "# Bold & Italic Text"
   ]
  },
  {
   "cell_type": "markdown",
   "id": "8febe369-7537-4230-82b1-26685bdc1791",
   "metadata": {},
   "source": [
    "1. Bold & Italic Text 작성 (Markdown 언어)"
   ]
  },
  {
   "cell_type": "markdown",
   "id": "fbad5195-cba5-4cab-9201-050197b44ae9",
   "metadata": {},
   "source": [
    "이 글은 ***굵게 그리고 기울기가*** 동시에 적용된 내용입니다.  \n",
    "___이 글은 굵게 그리고 기울기가 동시에 적용된 내용입니다.___"
   ]
  },
  {
   "cell_type": "markdown",
   "id": "08854a3e-38b8-428a-a9e1-4cfb65b0050d",
   "metadata": {},
   "source": [
    "이 글은 ***굵게 그리고 기울기가*** 동시에 적용된 내용입니다.  \n",
    "___이 글은 굵게 그리고 기울기가 동시에 적용된 내용입니다.___"
   ]
  },
  {
   "cell_type": "markdown",
   "id": "6006761b-ae27-4d25-a7f0-502ba42d7b04",
   "metadata": {},
   "source": [
    "2. Bold & Italic Text 작성 (HTML 언어)"
   ]
  },
  {
   "cell_type": "markdown",
   "id": "f409045d-42c5-44d6-beff-fdb890315555",
   "metadata": {},
   "source": [
    "\n",
    "이 글은<b><i> 굵게 그리고 기울기</i></b>가 동시에 적용된 내용입니다<br>.<strong><em>\n",
    "이 글은 굵게 그리고 기울기가 동시에 적용된 내용입니</em></strong>다."
   ]
  },
  {
   "cell_type": "markdown",
   "id": "a01c824f-9303-44c1-85bf-7e8b3ca5485d",
   "metadata": {},
   "source": [
    "이 글은<b><i> 굵게 그리고 기울기</i></b>가 동시에 적용된 내용입니다<br>\n",
    "<strong><em>\n",
    "이 글은 굵게 그리고 기울기가 동시에 적용된 내입니다</em></strong>."
   ]
  },
  {
   "cell_type": "markdown",
   "id": "4646bd80",
   "metadata": {},
   "source": [
    "---"
   ]
  },
  {
   "cell_type": "markdown",
   "id": "d1dfc82f-d9dc-4f46-902e-d25d2daebb07",
   "metadata": {},
   "source": [
    "# STRIKETHROUGH Text\n",
    "1. STRIKETHROUGH Text 작성 (Markdown 언어)"
   ]
  },
  {
   "cell_type": "markdown",
   "id": "6bf96caa-6d8d-4ac4-b7a8-1093099d366e",
   "metadata": {},
   "source": [
    "~~이 글은 취소된 내용입니다.~~"
   ]
  },
  {
   "cell_type": "markdown",
   "id": "39ef8dc3-39f5-4a36-b5da-834fbab2ec4d",
   "metadata": {},
   "source": [
    "~~이 글은 취소된 내용입니다.~~"
   ]
  },
  {
   "cell_type": "markdown",
   "id": "86012378-4d98-4756-b37e-463b9b76cec2",
   "metadata": {},
   "source": [
    "2. STRIKETHROUGH Text 작성(HTML 언어) "
   ]
  },
  {
   "cell_type": "markdown",
   "id": "bc502f13-2523-46cc-be97-cb5496627d5d",
   "metadata": {},
   "source": [
    "<del>이 글은 취소된 내용입니다.</del>"
   ]
  },
  {
   "cell_type": "markdown",
   "id": "edda4038-84e7-4d84-98f6-9ee5c6a42de3",
   "metadata": {},
   "source": [
    "<del>이 글은 취소된 내용입니다.</del>"
   ]
  },
  {
   "cell_type": "markdown",
   "id": "342b4f54",
   "metadata": {},
   "source": [
    "---"
   ]
  },
  {
   "cell_type": "markdown",
   "id": "608dd8a7-7706-41ef-ab2f-29f1e927ec0f",
   "metadata": {},
   "source": [
    "# BACKSLASH ESCAPE\n",
    "- BACKLASH ESCAPE 작성 (Markdown언어)\n",
    "  + 마크다운 언어를 통해 \"#\"문자를 작성하고자 할 때는, 역슬래쉬( \\# ) 문자를 활용"
   ]
  },
  {
   "cell_type": "markdown",
   "id": "774d0c3c-5e87-48ac-95e3-7928519def82",
   "metadata": {},
   "source": [
    "\\# Not Header"
   ]
  },
  {
   "cell_type": "markdown",
   "id": "9dd76ec2-6806-41f4-86cf-f09fd6d3833f",
   "metadata": {},
   "source": [
    "\\# Not Header"
   ]
  },
  {
   "cell_type": "markdown",
   "id": "31543cc8-d124-40ea-a158-44fdc4a67995",
   "metadata": {},
   "source": [
    "\\*\\*이 글은 굵게 작성되지 않은 내용입니다.\\*\\*"
   ]
  },
  {
   "cell_type": "markdown",
   "id": "aa5edc5a-dec1-4929-91b8-2ba3ca3f4748",
   "metadata": {},
   "source": [
    "\\*\\*이 글은 굵게 작성되지 않은 내용입니다.\\*\\*"
   ]
  },
  {
   "cell_type": "markdown",
   "id": "8157e26a",
   "metadata": {},
   "source": [
    "---"
   ]
  },
  {
   "cell_type": "markdown",
   "id": "c45eb727-d545-47c2-93a1-af129cbe72c0",
   "metadata": {},
   "source": [
    "# PARAGRAPHS\n",
    "1. PARAGRAPHS 작성 (Markdown 언어)"
   ]
  },
  {
   "cell_type": "markdown",
   "id": "6a4f36c0-d9e1-478a-9636-3318d188c3cf",
   "metadata": {},
   "source": [
    "이 글은 첫 번째 문장입니다.  (띄어쓰기 두번)\n",
    "이 글은 두 번째 문장입니다."
   ]
  },
  {
   "cell_type": "markdown",
   "id": "67b66e25-c810-457b-a8c2-c563fd5ad24e",
   "metadata": {},
   "source": [
    "이 글은 첫 번째 문장입니다.  \n",
    "이 글은 두 번째 문장입니다."
   ]
  },
  {
   "cell_type": "markdown",
   "id": "7164e0a6-8cda-4b73-be38-fecb72b907c9",
   "metadata": {},
   "source": [
    "2. PARAGRAPHS 작성 (HTML 언어)"
   ]
  },
  {
   "cell_type": "markdown",
   "id": "52285a09-a70e-4c5e-bdd8-d78a37646ba5",
   "metadata": {},
   "source": [
    "이 글은 첫 번째 문장입니다.<br>\n",
    "이 글은 두 번째 문장입니다."
   ]
  },
  {
   "cell_type": "markdown",
   "id": "7cb4c17f-2517-4747-a4de-6ce68a60e243",
   "metadata": {},
   "source": [
    "이 글은 첫 번째 문장입니다.<br>\n",
    "이 글은 두 번째 문장입니다."
   ]
  },
  {
   "cell_type": "markdown",
   "id": "3f94cf37-2fd4-4e30-973c-dd8102b995db",
   "metadata": {},
   "source": [
    "<p>이 글은 첫 번째 문장입니다.</p>\n",
    "<p>이 글은 두 번째 문장입니다.</p>"
   ]
  },
  {
   "cell_type": "markdown",
   "id": "86061680-14a3-4a17-8a0c-a6ad02738462",
   "metadata": {},
   "source": [
    "<p>이 글은 첫 번째 문장입니다.</p>\n",
    "<p>이 글은 두 번째 문장입니다.</p>"
   ]
  },
  {
   "cell_type": "markdown",
   "id": "fba943e3",
   "metadata": {},
   "source": [
    "# BLOCKQUOTES\n",
    "1. BlOCKQUOTES작성(Markdown 언어)"
   ]
  },
  {
   "cell_type": "markdown",
   "id": "01f4942c",
   "metadata": {},
   "source": [
    "> 이 글은 인용문입니다."
   ]
  },
  {
   "cell_type": "markdown",
   "id": "2fb4239a",
   "metadata": {},
   "source": [
    "> 이 글은 인용문입니다."
   ]
  },
  {
   "cell_type": "markdown",
   "id": "9c46af01",
   "metadata": {},
   "source": [
    "2. BLOCKQUOTES 작성 (HTML 언어)"
   ]
  },
  {
   "cell_type": "markdown",
   "id": "eb48316f",
   "metadata": {},
   "source": [
    "<blockquote>이 글은 인용문입니다.</blockquote>"
   ]
  },
  {
   "cell_type": "markdown",
   "id": "c3dde207",
   "metadata": {},
   "source": [
    "<blockquote>이 글은 인용문입니다.</blockquote>"
   ]
  },
  {
   "cell_type": "markdown",
   "id": "1373257d",
   "metadata": {},
   "source": [
    "---"
   ]
  },
  {
   "cell_type": "markdown",
   "id": "23aaff42",
   "metadata": {},
   "source": [
    "# NESTED BLOCK QUOTING\n",
    "1. NESTED BLOCK QUOTING 작성(Markdown 언어)"
   ]
  },
  {
   "cell_type": "markdown",
   "id": "3ded995f",
   "metadata": {},
   "source": [
    "> 1.수준 인용문\n",
    ">> 2.수준 인용문\n",
    ">>> 3.수준 인용문"
   ]
  },
  {
   "cell_type": "markdown",
   "id": "835e6a9b",
   "metadata": {},
   "source": [
    "> 1.수준 인용문\n",
    ">> 2.수준 인용문\n",
    ">>> 3.수준 인용문"
   ]
  },
  {
   "cell_type": "markdown",
   "id": "6384516a",
   "metadata": {},
   "source": [
    "<blockquote>\n",
    "    <p>1.수준 인용문</p>\n",
    "    <blockquote>\n",
    "        <p>2.수준 인용문</p>\n",
    "        <blockquote>\n",
    "            <p>3.수준 인용문</p>\n",
    "        </blockquote>\n",
    "    </blockquote>\n",
    "</blockquote>"
   ]
  },
  {
   "cell_type": "markdown",
   "id": "5e5ced52",
   "metadata": {},
   "source": [
    "<blockquote>\n",
    "    <p>1.수준 인용문</p>\n",
    "    <blockquote>\n",
    "        <p>2.수준 인용문</p>\n",
    "        <blockquote>\n",
    "            <p>3.수준 인용문</p>\n",
    "        </blockquote>\n",
    "    </blockquote>\n",
    "</blockquote>"
   ]
  },
  {
   "cell_type": "markdown",
   "id": "1d95356a",
   "metadata": {},
   "source": [
    "---"
   ]
  },
  {
   "cell_type": "markdown",
   "id": "a27c3bd4",
   "metadata": {},
   "source": [
    "# HORIZONTAL LINE (수평선)\n",
    "1. HORIZONTAL LINE 작성 (Markdown 언어)"
   ]
  },
  {
   "cell_type": "markdown",
   "id": "e863576d",
   "metadata": {},
   "source": [
    "---\n",
    "___\n",
    "***"
   ]
  },
  {
   "cell_type": "markdown",
   "id": "3b96dee0",
   "metadata": {},
   "source": [
    "---\n",
    "___\n",
    "***"
   ]
  },
  {
   "cell_type": "markdown",
   "id": "e53908b1",
   "metadata": {},
   "source": [
    "2.HORIZONTAL LINE 작성 (HTML 언어)"
   ]
  },
  {
   "cell_type": "markdown",
   "id": "9258c8be",
   "metadata": {},
   "source": [
    "<hr>"
   ]
  },
  {
   "cell_type": "markdown",
   "id": "42cb6d85",
   "metadata": {},
   "source": [
    "<hr>"
   ]
  },
  {
   "cell_type": "markdown",
   "id": "0bec715d",
   "metadata": {},
   "source": [
    "# ORDERED LIST\n",
    "1. ORDERED LIST 작성 (Markdown 언어)"
   ]
  },
  {
   "cell_type": "markdown",
   "id": "2bbcadde",
   "metadata": {},
   "source": [
    "1. 아이템1\n",
    "2. 아이템2\n",
    "3. 아이템3\n",
    "4. 아이템4\n",
    "5. 아이템5"
   ]
  },
  {
   "cell_type": "markdown",
   "id": "d5f49c6e",
   "metadata": {},
   "source": [
    "1. 아이템1\n",
    "2. 아이템2\n",
    "3. 아이템3\n",
    "4. 아이템4\n",
    "5. 아이템5"
   ]
  },
  {
   "cell_type": "markdown",
   "id": "18c9980d",
   "metadata": {},
   "source": [
    "2. ORDERED LIST 작성 (HTML 언어)"
   ]
  },
  {
   "cell_type": "markdown",
   "id": "8d83b4e8",
   "metadata": {},
   "source": [
    "<ol>\n",
    "    <li>아이템1</li>\n",
    "    <li>아이템2</li>\n",
    "    <li>아이템3</li>\n",
    "    <li>아이템4</li>\n",
    "    <li>아이템5</li>\n",
    "</ol>"
   ]
  },
  {
   "cell_type": "markdown",
   "id": "23bf2e24",
   "metadata": {},
   "source": [
    "<ol>\n",
    "    <li>아이템1</li>\n",
    "    <li>아이템2</li>\n",
    "    <li>아이템3</li>\n",
    "    <li>아이템4</li>\n",
    "    <li>아이템5</li>\n",
    "</ol>"
   ]
  },
  {
   "cell_type": "markdown",
   "id": "70e5647e",
   "metadata": {},
   "source": [
    "# NESTED ORDERED LIST\n",
    "1. NESTED ORDERD LIST 작성(Markdown 언어)"
   ]
  },
  {
   "cell_type": "markdown",
   "id": "96aaf447",
   "metadata": {},
   "source": [
    "1. 아이템1\n",
    "    1. 아이템1\n",
    "    2. 아이템1\n",
    "    3. 아이템1\n",
    "2. 아이템2\n",
    "3. 아이템3"
   ]
  },
  {
   "cell_type": "markdown",
   "id": "c0634f07",
   "metadata": {},
   "source": [
    "1. 아이템1\n",
    "    1. 아이템1\n",
    "    2. 아이템1\n",
    "    3. 아이템1\n",
    "2. 아이템2\n",
    "3. 아이템3"
   ]
  },
  {
   "cell_type": "markdown",
   "id": "a9fcd46b",
   "metadata": {},
   "source": [
    "2. NESTED ORDERED LIST 작성(HTML 언어)"
   ]
  },
  {
   "cell_type": "markdown",
   "id": "9a398375",
   "metadata": {},
   "source": [
    "<ol>\n",
    "    <li>아이템1</li>\n",
    "    <ol>\n",
    "        <li>서브 아이템1</li>\n",
    "        <li>서브 아이템2</li>\n",
    "        <li>서브 아이템3</li>\n",
    "    </ol>\n",
    "    <li>아이템2</li>\n",
    "    <li>아이템3</li>\n",
    "</ol>\n"
   ]
  },
  {
   "cell_type": "markdown",
   "id": "ce57ce73",
   "metadata": {},
   "source": [
    "<ol>\n",
    "    <li>아이템1</li>\n",
    "    <ol>\n",
    "        <li>서브 아이템1</li>\n",
    "        <li>서브 아이템2</li>\n",
    "        <li>서브 아이템3</li>\n",
    "    </ol>\n",
    "    <li>아이템2</li>\n",
    "    <li>아이템3</li>\n",
    "</ol>\n"
   ]
  },
  {
   "cell_type": "markdown",
   "id": "0de9d4e1",
   "metadata": {},
   "source": [
    "---"
   ]
  },
  {
   "cell_type": "markdown",
   "id": "5b588eef",
   "metadata": {},
   "source": [
    "# UNORDERED LIST\n",
    "1. UNORDERED LIST 작성 (Markdown 언어)"
   ]
  },
  {
   "cell_type": "markdown",
   "id": "72e1dd2e",
   "metadata": {},
   "source": [
    "- 아이템1\n",
    "- 아이템2\n",
    "  + 서브아이템2-1\n",
    "  + 서브아이템2-2"
   ]
  },
  {
   "cell_type": "markdown",
   "id": "4c63f21d",
   "metadata": {},
   "source": [
    "- 아이템1\n",
    "- 아이템2\n",
    "  + 서브아이템2-1\n",
    "  + 서브아이템2-2"
   ]
  },
  {
   "cell_type": "markdown",
   "id": "cf3bdf10",
   "metadata": {},
   "source": [
    "2. UNORDERED LIST 작성 (HTML 언어)"
   ]
  },
  {
   "cell_type": "markdown",
   "id": "2e655f9e",
   "metadata": {},
   "source": [
    "<ul>\n",
    "    <li>아이템1</li>\n",
    "    <li>아이템2</li>\n",
    "    <ul>\n",
    "        <li>서브아이템2-1</li>\n",
    "        <li>서브아이템2-1</li>\n",
    "    </ul>\n",
    "</ul>"
   ]
  },
  {
   "cell_type": "markdown",
   "id": "e2a45cea",
   "metadata": {},
   "source": [
    "<ul>\n",
    "    <li>아이템1</li>\n",
    "    <li>아이템2</li>\n",
    "    <ul>\n",
    "        <li>서브아이템2-1</li>\n",
    "        <li>서브아이템2-1</li>\n",
    "    </ul>\n",
    "</ul>"
   ]
  },
  {
   "cell_type": "markdown",
   "id": "26a73b69",
   "metadata": {},
   "source": [
    "# Graphics\n",
    "1. 사진 첨부하기 (Markdown 언어)\n",
    "   + \\!\\[\\](이미지주소)"
   ]
  },
  {
   "cell_type": "markdown",
   "id": "05aabb55",
   "metadata": {},
   "source": [
    "![](https://encrypted-tbn0.gstatic.com/images?q=tbn:ANd9GcSEhDg9Z-9GImgFRbV40EH_TrBz2mx5xsuxyQ&s)"
   ]
  },
  {
   "cell_type": "markdown",
   "id": "ce7430a0",
   "metadata": {},
   "source": [
    "![](https://encrypted-tbn0.gstatic.com/images?q=tbn:ANd9GcSEhDg9Z-9GImgFRbV40EH_TrBz2mx5xsuxyQ&s)"
   ]
  },
  {
   "cell_type": "markdown",
   "id": "e708cfa9",
   "metadata": {},
   "source": [
    "2. 사진 첨부하기 (html 언어)"
   ]
  },
  {
   "cell_type": "markdown",
   "id": "7e2a74ee",
   "metadata": {},
   "source": [
    "<img src=\"https://encrypted-tbn0.gstatic.com/images?q=tbn:ANd9GcSEhDg9Z-9GImgFRbV40EH_TrBz2mx5xsuxyQ&s\">"
   ]
  },
  {
   "cell_type": "markdown",
   "id": "791cb271",
   "metadata": {},
   "source": [
    "<img src=\"https://encrypted-tbn0.gstatic.com/images?q=tbn:ANd9GcSEhDg9Z-9GImgFRbV40EH_TrBz2mx5xsuxyQ&s\">"
   ]
  },
  {
   "cell_type": "markdown",
   "id": "b3303c34",
   "metadata": {},
   "source": [
    "# Hyperlink\n",
    "1. Hyperlink 작성하기 (Markdown 언어)"
   ]
  },
  {
   "cell_type": "markdown",
   "id": "57f3d2f4",
   "metadata": {},
   "source": [
    "https://www.naver.com"
   ]
  },
  {
   "cell_type": "markdown",
   "id": "f79ea652",
   "metadata": {},
   "source": [
    "https://www.naver.com"
   ]
  },
  {
   "cell_type": "markdown",
   "id": "671e3a39",
   "metadata": {},
   "source": []
  },
  {
   "cell_type": "markdown",
   "id": "6df8b772",
   "metadata": {},
   "source": [
    "2. Hyperlink 작성하기 (HTML 언어)"
   ]
  },
  {
   "cell_type": "markdown",
   "id": "7565a48d",
   "metadata": {},
   "source": [
    "<a href=\"https://www.naver.com\">https://www.naver.com</a>"
   ]
  },
  {
   "cell_type": "markdown",
   "id": "3e4529f0",
   "metadata": {},
   "source": [
    "<a href=\"https://www.naver.com\">https://www.naver.com</a>"
   ]
  },
  {
   "cell_type": "markdown",
   "id": "16dab3a0",
   "metadata": {},
   "source": [
    "# Hyperlink by name\n",
    "1. Hyperlink by name 작성하기 (Markdown 언어)"
   ]
  },
  {
   "cell_type": "markdown",
   "id": "9694ca00",
   "metadata": {},
   "source": [
    "[clink me](https://www.naver.com)"
   ]
  },
  {
   "cell_type": "markdown",
   "id": "7ef140cd",
   "metadata": {},
   "source": [
    "[clink me](https://www.naver.com)"
   ]
  },
  {
   "cell_type": "markdown",
   "id": "e74ef3f2",
   "metadata": {},
   "source": [
    "2. Hyperlink by name 작성하기 (HTML 언어)"
   ]
  },
  {
   "cell_type": "markdown",
   "id": "09415060",
   "metadata": {},
   "source": [
    "<a href=\"https://www.naver.com\">click me</a>"
   ]
  },
  {
   "cell_type": "markdown",
   "id": "064379ab",
   "metadata": {},
   "source": [
    "<a href=\"https://www.naver.com\">click me</a>"
   ]
  },
  {
   "cell_type": "markdown",
   "id": "8963a987",
   "metadata": {},
   "source": [
    "---"
   ]
  },
  {
   "cell_type": "markdown",
   "id": "16c44e32",
   "metadata": {},
   "source": [
    "# Anchor Links\n",
    "1. Anchor Links 작성하기"
   ]
  },
  {
   "cell_type": "markdown",
   "id": "17f52282",
   "metadata": {},
   "source": [
    "- [Header](#header)\n",
    "- [Bold Text](#bold_text)"
   ]
  },
  {
   "cell_type": "markdown",
   "id": "975792ca",
   "metadata": {},
   "source": [
    "- [Header](#header)\n",
    "- [Bold Text](#bold_text)"
   ]
  },
  {
   "cell_type": "markdown",
   "id": "b6cf561a",
   "metadata": {},
   "source": [
    "# Task Lists\n",
    "1. Task Lists 작성"
   ]
  },
  {
   "cell_type": "markdown",
   "id": "a576e5be",
   "metadata": {},
   "source": [
    "- [x] 오늘 할일\n",
    "- [ ] 내일 할일"
   ]
  },
  {
   "cell_type": "markdown",
   "id": "4a80f626",
   "metadata": {},
   "source": [
    "# Inline HTML\n",
    "1. Inline HTML 작성"
   ]
  },
  {
   "cell_type": "markdown",
   "id": "ddad3509",
   "metadata": {},
   "source": [
    "<span style=\"color:red;\"> 이 글은 스타일이 적용된 문장입니다.</span>"
   ]
  },
  {
   "cell_type": "markdown",
   "id": "da9f6df2",
   "metadata": {},
   "source": [
    "<span style=\"color:red;\"> 이 글은 스타일이 적용된 문장입니다.</span>"
   ]
  },
  {
   "cell_type": "markdown",
   "id": "26b6754e",
   "metadata": {},
   "source": [
    "---"
   ]
  },
  {
   "cell_type": "markdown",
   "id": "6b51ac59",
   "metadata": {},
   "source": [
    "# Code section\n",
    "1. Code Section 작성"
   ]
  },
  {
   "cell_type": "markdown",
   "id": "3080543e",
   "metadata": {},
   "source": [
    "```python\n",
    "a = 10\n",
    "print(a)\n",
    "```"
   ]
  },
  {
   "cell_type": "markdown",
   "id": "468770c2",
   "metadata": {},
   "source": [
    "```python\n",
    "a = 10\n",
    "print(a)\n",
    "```"
   ]
  },
  {
   "cell_type": "markdown",
   "id": "d244d1fc",
   "metadata": {},
   "source": [
    "---"
   ]
  },
  {
   "cell_type": "markdown",
   "id": "c5281ead",
   "metadata": {},
   "source": [
    "# Latex 수식\n",
    "1. Latex 작성"
   ]
  },
  {
   "cell_type": "markdown",
   "id": "384bfb5f",
   "metadata": {},
   "source": [
    "W의 합을 구하는 수식은 $ x = \\sum_{i=0}^{N-1} W_i $ 입니다."
   ]
  },
  {
   "cell_type": "markdown",
   "id": "ae1cf1e2",
   "metadata": {},
   "source": [
    "W의 합을 구하는 수식은 $ x = \\sum_{i=0}^{N-1} W_i $ 입니다."
   ]
  },
  {
   "cell_type": "markdown",
   "id": "ceb8ef58",
   "metadata": {},
   "source": [
    "$$ x = \\sum_{i=0}^{N-1} W_i $$"
   ]
  },
  {
   "cell_type": "markdown",
   "id": "02f6fcac",
   "metadata": {},
   "source": [
    "$$ x = \\sum_{i=0}^{N-1} W_i $$"
   ]
  }
 ],
 "metadata": {
  "kernelspec": {
   "display_name": "Python 3 (ipykernel)",
   "language": "python",
   "name": "python3"
  },
  "language_info": {
   "codemirror_mode": {
    "name": "ipython",
    "version": 3
   },
   "file_extension": ".py",
   "mimetype": "text/x-python",
   "name": "python",
   "nbconvert_exporter": "python",
   "pygments_lexer": "ipython3",
   "version": "3.9.19"
  }
 },
 "nbformat": 4,
 "nbformat_minor": 5
}
